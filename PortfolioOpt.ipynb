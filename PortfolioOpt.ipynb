{
 "cells": [
  {
   "cell_type": "markdown",
   "metadata": {
    "id": "vqgA_yPbGFnM"
   },
   "source": [
    "# PROJECT OVERVIEW"
   ]
  },
  {
   "cell_type": "markdown",
   "metadata": {},
   "source": [
    "## We aim to perform **portfolio analysis**, **visualization**, and **optimization**.\n",
    "## Portfolio optimization is done with the objective of maximizing returns and reducing risks.\n",
    "\n",
    "## This project has four parts:\n",
    "### - Performing Data Visualization for One Stock\n",
    "### - Performing Data Visualization for Multiple Stock, including analyzing correlations between stocks\n",
    "### - Simulating the allocation of capital into a portfolio of stocks & analyzing the returns, risks, & Sharpe.\n",
    "### - Optimizing the portfolio for the best Sharpe Ratio & exploring Markowitz' Efficient Frontier\n",
    "\n"
   ]
  },
  {
   "cell_type": "markdown",
   "metadata": {
    "id": "3n66xj4BGKWM"
   },
   "source": [
    "# IMPORT LIBRARIES AND DATASETS"
   ]
  },
  {
   "cell_type": "code",
   "execution_count": null,
   "metadata": {
    "ExecuteTime": {
     "end_time": "2025-06-08T23:36:39.797218Z",
     "start_time": "2025-06-08T23:36:39.792151Z"
    }
   },
   "outputs": [],
   "source": [
    "# !pip install plotly==4.14.3"
   ]
  },
  {
   "cell_type": "code",
   "execution_count": null,
   "metadata": {
    "ExecuteTime": {
     "end_time": "2025-06-09T00:19:23.018039Z",
     "start_time": "2025-06-09T00:19:22.985556Z"
    }
   },
   "outputs": [],
   "source": [
    "# Import key librares and modules \n",
    "import pandas as pd\n",
    "import numpy as np\n",
    "import matplotlib.pyplot as plt\n",
    "\n",
    "# Patching deprecated aliases\n",
    "np.bool = bool\n",
    "np.int = int\n",
    "np.float = float\n",
    "import seaborn as sns\n",
    "\n",
    "import plotly.io as pio\n",
    "import plotly.express as px\n",
    "\n",
    "import cufflinks as cf\n",
    "cf.go_offline() # Enabling offline mode for interactive data visualization locally\n",
    "# print(pio.renderers)\n",
    "\n",
    "import yfinance as yf\n",
    "\n",
    "# Import datetime module that comes pre-installed in Python \n",
    "# datetime offers classes that work with date & time information\n",
    "import datetime as dt"
   ]
  },
  {
   "cell_type": "code",
   "execution_count": null,
   "metadata": {
    "ExecuteTime": {
     "end_time": "2025-06-08T23:36:45.473891Z",
     "start_time": "2025-06-08T23:36:45.403825Z"
    }
   },
   "outputs": [],
   "source": [
    "# Use Pandas to read stock data (the csv file is included in the course package) \n",
    "stock_df = pd.read_csv('Amazon.csv')\n",
    "stock_df = stock_df.set_index('Date')\n",
    "stock_df.head(15)"
   ]
  },
  {
   "cell_type": "code",
   "execution_count": null,
   "metadata": {
    "ExecuteTime": {
     "end_time": "2025-06-08T23:36:45.495982Z",
     "start_time": "2025-06-08T23:36:45.475834Z"
    }
   },
   "outputs": [],
   "source": [
    "# Count the number of missing values in \"stock_df\" Pandas DataFrame\n",
    "stock_df.isnull().sum()"
   ]
  },
  {
   "cell_type": "code",
   "execution_count": null,
   "metadata": {
    "ExecuteTime": {
     "end_time": "2025-06-08T23:36:45.528716Z",
     "start_time": "2025-06-08T23:36:45.498699Z"
    }
   },
   "outputs": [],
   "source": [
    "# Obtain information about the Pandas DataFrame such as data types, memory utilization..etc\n",
    "stock_df.info()"
   ]
  },
  {
   "cell_type": "code",
   "execution_count": null,
   "metadata": {
    "ExecuteTime": {
     "end_time": "2025-06-09T02:54:35.984383Z",
     "start_time": "2025-06-09T02:54:35.387674Z"
    }
   },
   "outputs": [],
   "source": [
    "# repeat the process for JPM\n",
    "JPM_df = pd.read_csv(\"JPM.csv\")\n",
    "JPM_df = JPM_df.set_index('Date')\n",
    "JPM_df['Daily Return'] = JPM_df['Adj Close'].pct_change(1)*100\n",
    "JPM_df = JPM_df.fillna(0)"
   ]
  },
  {
   "cell_type": "code",
   "execution_count": null,
   "metadata": {
    "ExecuteTime": {
     "end_time": "2025-06-08T23:36:45.577983Z",
     "start_time": "2025-06-08T23:36:45.549942Z"
    }
   },
   "outputs": [],
   "source": [
    "JPM_df.info()"
   ]
  },
  {
   "cell_type": "code",
   "execution_count": null,
   "metadata": {
    "ExecuteTime": {
     "end_time": "2025-06-08T23:36:45.593341Z",
     "start_time": "2025-06-08T23:36:45.581622Z"
    }
   },
   "outputs": [],
   "source": [
    "JPM_df.isnull().sum()"
   ]
  },
  {
   "cell_type": "markdown",
   "metadata": {},
   "source": [
    "# CALCULATE PERCENTAGE DAILY RETURNS"
   ]
  },
  {
   "cell_type": "code",
   "execution_count": null,
   "metadata": {
    "ExecuteTime": {
     "end_time": "2025-06-09T04:16:50.550418Z",
     "start_time": "2025-06-09T04:16:49.434026Z"
    }
   },
   "outputs": [],
   "source": [
    "# Calculate the percentage daily return\n",
    "stock_df['Daily Return'] = stock_df['Adj Close'].pct_change(1) * 100\n",
    "stock_df['Daily Return'].fillna(0, inplace=True)\n",
    "stock_df"
   ]
  },
  {
   "cell_type": "code",
   "execution_count": null,
   "metadata": {
    "ExecuteTime": {
     "end_time": "2025-06-09T02:54:53.902946Z",
     "start_time": "2025-06-09T02:54:53.449419Z"
    }
   },
   "outputs": [],
   "source": [
    "# Use the describe() method to obtain a statistical summary about the data \n",
    "# Over the specified time period, the average adjusted close price for Amazon stock was $120.07 \n",
    "# The maximum adjusted close price was $186.57\n",
    "# The maximum volume of shares traded on one day were 311,346,000\n",
    "stock_df.describe().round(2)"
   ]
  },
  {
   "cell_type": "code",
   "execution_count": null,
   "metadata": {
    "ExecuteTime": {
     "end_time": "2025-06-09T02:55:14.093132Z",
     "start_time": "2025-06-09T02:55:13.939072Z"
    }
   },
   "outputs": [],
   "source": [
    "JPM_df['Daily Returns'] = JPM_df['Adj Close'].pct_change(1)*100\n",
    "JPM_df['Daily Returns'].fillna(0, inplace = True)\n",
    "JPM_df"
   ]
  },
  {
   "cell_type": "code",
   "execution_count": null,
   "metadata": {
    "ExecuteTime": {
     "end_time": "2025-06-09T02:55:16.607066Z",
     "start_time": "2025-06-09T02:55:16.565385Z"
    }
   },
   "outputs": [],
   "source": [
    "JPM_df.describe()"
   ]
  },
  {
   "cell_type": "markdown",
   "metadata": {},
   "source": [
    "# PERFORM DATA VISUALIZATION FOR A SINGLE STOCK: PART 1"
   ]
  },
  {
   "cell_type": "code",
   "execution_count": null,
   "metadata": {
    "ExecuteTime": {
     "end_time": "2025-06-09T02:55:25.903560Z",
     "start_time": "2025-06-09T02:55:22.801742Z"
    }
   },
   "outputs": [],
   "source": [
    "# Plot a Line Plot Using Plotly Express\n",
    "fig = px.line(title = 'Amazon.com, Inc. (AMZN) Adjusted Closing Price [$]')\n",
    "fig.add_scatter(x = stock_df.index, y = stock_df['Adj Close'], name = 'Adj Close')\n",
    "fig.show(renderer=\"browser\")"
   ]
  },
  {
   "cell_type": "code",
   "execution_count": null,
   "metadata": {
    "ExecuteTime": {
     "end_time": "2025-06-09T02:55:34.065780Z",
     "start_time": "2025-06-09T02:55:33.882715Z"
    }
   },
   "outputs": [],
   "source": [
    "# Define a function that performs interactive data visualization using Plotly Express\n",
    "def plot_financial_data(df, title, renderer):\n",
    "    \n",
    "    fig = px.line(title = title)\n",
    "    \n",
    "    # For loop that plots all stock prices in the pandas dataframe df\n",
    "    # Note that index starts with 1 because we want to skip the date column\n",
    "    \n",
    "    for i in df.columns:\n",
    "        fig.add_scatter(x = df.index, y = df[i], name = i)\n",
    "        fig.update_traces(line_width = 5)\n",
    "        fig.update_layout({'plot_bgcolor': \"white\"})\n",
    "\n",
    "    fig.show(renderer=renderer)"
   ]
  },
  {
   "cell_type": "code",
   "execution_count": null,
   "metadata": {
    "ExecuteTime": {
     "end_time": "2025-06-09T02:55:36.530134Z",
     "start_time": "2025-06-09T02:55:35.836513Z"
    },
    "scrolled": true
   },
   "outputs": [],
   "source": [
    "# Plot High, Low, Open, Close and Adj Close\n",
    "plot_financial_data(df = stock_df.drop(['Volume', 'Daily Return'], axis = 1), title = 'Amazon.com, Inc. (AMZN) Stock Price [$]', renderer='browser')"
   ]
  },
  {
   "cell_type": "code",
   "execution_count": null,
   "metadata": {
    "ExecuteTime": {
     "end_time": "2025-06-09T04:17:39.931533Z",
     "start_time": "2025-06-09T04:17:34.738982Z"
    }
   },
   "outputs": [],
   "source": [
    "# Plot trading volume\n",
    "plot_financial_data(stock_df.iloc[:,[5]], 'Amazon.com, Inc. (AMZN) Trading Volume', 'browser')"
   ]
  },
  {
   "cell_type": "code",
   "execution_count": null,
   "metadata": {
    "ExecuteTime": {
     "end_time": "2025-06-09T02:55:50.476324Z",
     "start_time": "2025-06-09T02:55:50.388447Z"
    }
   },
   "outputs": [],
   "source": [
    "# Plot % Daily Returns\n",
    "plot_financial_data(stock_df.iloc[:,[6]], 'Amazon.com, Inc. (AMZN) Percentage Daily Return [%]', 'notebook')"
   ]
  },
  {
   "cell_type": "code",
   "execution_count": null,
   "metadata": {
    "ExecuteTime": {
     "end_time": "2025-06-09T02:55:55.004843Z",
     "start_time": "2025-06-09T02:55:54.164397Z"
    }
   },
   "outputs": [],
   "source": [
    "s = stock_df['Daily Return'].describe()\n",
    "plt.hist(stock_df['Daily Return'], bins=40)\n",
    "x = np.arange(-15, 15, 0.01)\n",
    "\n",
    "g = (1/np.sqrt(2*np.pi*s[2]*s[2]))*np.exp(-((x-s[1])**2)/(2*s[2]*s[2]))*s[0]\n",
    "plt.plot(x, g)\n",
    "plt.show()"
   ]
  },
  {
   "cell_type": "code",
   "execution_count": null,
   "metadata": {
    "ExecuteTime": {
     "end_time": "2025-06-09T02:55:57.218766Z",
     "start_time": "2025-06-09T02:55:57.051224Z"
    }
   },
   "outputs": [],
   "source": [
    "# Plot a Line Plot Using Plotly Express\n",
    "fig = px.line(title = 'JPM')\n",
    "for i in JPM_df.drop(['Volume', 'Daily Return'], axis=1).columns[1:]:\n",
    "    fig.add_scatter(x = stock_df.index, y = JPM_df[i], name=i)\n",
    "fig.show(renderer=\"notebook\")"
   ]
  },
  {
   "cell_type": "code",
   "execution_count": null,
   "metadata": {
    "ExecuteTime": {
     "end_time": "2025-06-09T02:56:01.413473Z",
     "start_time": "2025-06-09T02:56:01.182255Z"
    }
   },
   "outputs": [],
   "source": [
    "fig = px.line(title='JPM vol')\n",
    "fig.add_scatter(x=JPM_df.index, y=JPM_df['Volume'], name='Volume')\n",
    "fig.show(renderer='notebook')"
   ]
  },
  {
   "cell_type": "code",
   "execution_count": null,
   "metadata": {
    "ExecuteTime": {
     "end_time": "2025-06-09T02:56:04.873435Z",
     "start_time": "2025-06-09T02:56:04.785254Z"
    }
   },
   "outputs": [],
   "source": [
    "fig = px.line()\n",
    "fig.add_scatter(x=JPM_df.index, y=JPM_df['Adj Close'])\n",
    "fig.show(renderer='notebook')"
   ]
  },
  {
   "cell_type": "markdown",
   "metadata": {},
   "source": [
    "# PERFORM DATA VISUALIZATION FOR A SINGLE STOCK: PART 2"
   ]
  },
  {
   "cell_type": "code",
   "execution_count": null,
   "metadata": {
    "ExecuteTime": {
     "end_time": "2025-06-09T02:56:09.214773Z",
     "start_time": "2025-06-09T02:56:09.199849Z"
    }
   },
   "outputs": [],
   "source": [
    "# Define a function that classifies the returns based on the magnitude\n",
    "# Feel free to change these numbers\n",
    "def percentage_return_classifier(percentage_return):\n",
    "    \n",
    "    if percentage_return > -0.3 and percentage_return <= 0.3:\n",
    "        return 'Insignificant Change'\n",
    "    elif percentage_return > 0.3 and percentage_return <= 3:\n",
    "        return 'Positive Change'\n",
    "    elif percentage_return > -3 and percentage_return <= -0.3:\n",
    "        return 'Negative Change'\n",
    "    elif percentage_return > 3 and percentage_return <= 7:\n",
    "        return 'Large Positive Change'\n",
    "    elif percentage_return > -7 and percentage_return <= -3:\n",
    "        return 'Large Negative Change'\n",
    "    elif percentage_return > 7:\n",
    "        return 'Bull Run'\n",
    "    elif percentage_return <= -7:\n",
    "        return 'Bear Sell Off'"
   ]
  },
  {
   "cell_type": "code",
   "execution_count": null,
   "metadata": {
    "ExecuteTime": {
     "end_time": "2025-06-09T02:56:10.997571Z",
     "start_time": "2025-06-09T02:56:10.966654Z"
    }
   },
   "outputs": [],
   "source": [
    "# Apply the function to the \"Daily Return\" Column and place the result in \"Trend\" column\n",
    "stock_df['Trend'] = stock_df['Daily Return'].apply(percentage_return_classifier)\n",
    "stock_df"
   ]
  },
  {
   "cell_type": "code",
   "execution_count": null,
   "metadata": {
    "ExecuteTime": {
     "end_time": "2025-06-09T04:18:19.199180Z",
     "start_time": "2025-06-09T04:18:18.638949Z"
    }
   },
   "outputs": [],
   "source": [
    "# Count distinct values in the Trend column\n",
    "trend_summary_AMZN = stock_df['Trend'].value_counts()\n",
    "trend_summary_AMZN"
   ]
  },
  {
   "cell_type": "code",
   "execution_count": null,
   "metadata": {
    "ExecuteTime": {
     "end_time": "2025-06-09T04:19:15.066636Z",
     "start_time": "2025-06-09T04:19:13.891767Z"
    }
   },
   "outputs": [],
   "source": [
    "# Plot a pie chart using Matplotlib Library\n",
    "# plt.figure(figsize = (8, 8))\n",
    "trend_summary_AMZN.plot(kind = 'pie', y = 'Trend');\n",
    "\n",
    "JPM_df['Trend'] = JPM_df['Daily Return'].apply(percentage_return_classifier)\n",
    "ts_JPM = JPM_df['Trend'].value_counts()\n",
    "plt.figure()\n",
    "ts_JPM.plot(kind=\"pie\")\n",
    "plt.show()"
   ]
  },
  {
   "cell_type": "markdown",
   "metadata": {},
   "source": [
    "# PERFORM DATA VISUALIZATION FOR A SINGLE STOCK: PART 3"
   ]
  },
  {
   "cell_type": "code",
   "execution_count": null,
   "metadata": {
    "ExecuteTime": {
     "end_time": "2025-06-08T23:39:55.286487Z",
     "start_time": "2025-06-08T23:39:55.039634Z"
    }
   },
   "outputs": [],
   "source": [
    "# Plot Candlestick figure using Cufflinks QuantFig module\n",
    "cf.go_offline()             # Use offline mode\n",
    "# cf.set_config_file(world_readable=True, theme='white')  # Set default theme\n",
    "figure = cf.QuantFig(stock_df, title = 'Amazon.com, Inc. (AMZN) Candlestick Chart', name = 'AMZN')\n",
    "# figure = cf.QuantFig(stock_df)\n",
    "#figure.add_sma(periods =[14, 21], column = 'Close', color = ['magenta', 'green'])\n",
    "figure.iplot(theme = 'white', up_color = 'green', down_color = 'red')"
   ]
  },
  {
   "cell_type": "code",
   "execution_count": null,
   "metadata": {
    "ExecuteTime": {
     "end_time": "2025-06-08T23:39:15.922131Z",
     "start_time": "2025-06-08T23:39:15.895718Z"
    }
   },
   "outputs": [],
   "source": [
    "JPM_df['SMA_20']=JPM_df['Close'].rolling(window=20).mean()\n",
    "JPM_df['std_dev']=JPM_df['Close'].rolling(window=20).std()\n",
    "JPM_df['B-band Upper'] = JPM_df['SMA_20']+2*JPM_df['std_dev']\n",
    "JPM_df['B-band Lower'] = JPM_df['SMA_20']-2*JPM_df['std_dev']\n",
    "JPM_df.drop('std_dev', axis=1)"
   ]
  },
  {
   "cell_type": "code",
   "execution_count": null,
   "metadata": {
    "ExecuteTime": {
     "end_time": "2025-06-08T23:40:00.953555Z",
     "start_time": "2025-06-08T23:40:00.328125Z"
    }
   },
   "outputs": [],
   "source": [
    "fig = cf.QuantFig(JPM_df)\n",
    "fig.add_sma([30, 100], column='Open',color=['magenta', 'blue'])\n",
    "fig.add_bollinger_bands(periods=20, boll_std=2, fill=True, column='Close', color='orange')\n",
    "fig.add_bollinger_bands(periods=20, boll_std=1, fill=True, column='Close', color='red')\n",
    "fig.iplot(theme='white', up_color='green', down_color='red')"
   ]
  },
  {
   "cell_type": "markdown",
   "metadata": {},
   "source": [
    "# PERFORM DATA VISUALIZATION FOR MULTIPLE STOCKS"
   ]
  },
  {
   "cell_type": "markdown",
   "metadata": {},
   "source": [
    "### We will focus our analysis on the following U.S. stocks :-\n",
    "\n",
    "**AMZN:** Amazon Inc. - Multinational tech company focusing on e-commerce, cloud computing, and artificial intelligence\n",
    "\n",
    "**JPM:** JPMorgan Chase and Co. - Multinational investment bank and financial services holding company\n",
    "\n",
    "**META:** Meta Platforms, formerly named Facebook Inc. - META owns Facebook, Instagram, and WhatsApp\n",
    "\n",
    "**PG:** Procter and Gamble (P&G) - Multinational consumer goods corporation\n",
    "\n",
    "**GOOG:** Google (Alphabet Inc.) - Multinational company that focuses on search engine tech, e-commerce, Cloud and AI \n",
    "\n",
    "**CAT:** Caterpillar - World's largest construction-equipment manufacturer\n",
    "\n",
    "**PFE:** Pfizer Inc. - Multinational pharmaceutical and biotechnology corporation\n",
    "\n",
    "**EXC:** Exelon - An American Fortune 100 energy company \n",
    "\n",
    "**DE:** Deere & Company (John Deere) - Manufactures agricultural machinery and heavy equipment\n",
    "\n",
    "**JNJ:** Johnson & Johnson - A multinational corporation that develops medical devices and pharmaceuticals\n"
   ]
  },
  {
   "cell_type": "code",
   "execution_count": null,
   "metadata": {
    "ExecuteTime": {
     "end_time": "2025-06-09T02:57:26.670586Z",
     "start_time": "2025-06-09T02:57:26.471417Z"
    }
   },
   "outputs": [],
   "source": [
    "close_price_df = pd.read_csv('stock_prices.csv')\n",
    "close_price_df = close_price_df.set_index('Date')\n",
    "close_price_df"
   ]
  },
  {
   "cell_type": "code",
   "execution_count": null,
   "metadata": {
    "ExecuteTime": {
     "end_time": "2025-06-09T04:19:42.401490Z",
     "start_time": "2025-06-09T04:19:41.755284Z"
    }
   },
   "outputs": [],
   "source": [
    "# The objective of this code cell is to calculate the percentage daily return\n",
    "daily_returns_df = close_price_df.iloc[:, :].pct_change() * 100\n",
    "daily_returns_df.replace(np.nan, 0, inplace = True)\n",
    "daily_returns_df"
   ]
  },
  {
   "cell_type": "code",
   "execution_count": null,
   "metadata": {
    "ExecuteTime": {
     "end_time": "2025-06-09T02:57:34.447823Z",
     "start_time": "2025-06-09T02:57:34.122032Z"
    },
    "colab": {
     "base_uri": "https://localhost:8080/",
     "height": 542
    },
    "executionInfo": {
     "elapsed": 1475,
     "status": "ok",
     "timestamp": 1624997046102,
     "user": {
      "displayName": "Stemplicity",
      "photoUrl": "https://lh3.googleusercontent.com/a-/AOh14Gj2vCFt-bD5mPBhUWX0QA6xiBgoXQXtwUm2jgjaCg=s64",
      "userId": "10668071569687886186"
     },
     "user_tz": 240
    },
    "id": "zu9MvQMN6Uuu",
    "outputId": "8fef83c5-27bc-4668-e993-6b558c96e026"
   },
   "outputs": [],
   "source": [
    "# Plot closing prices using plotly Express. Note that we used the same pre-defined function \"plot_financial_data\"\n",
    "plot_financial_data(close_price_df, 'Adjusted Closing Prices [$]', 'notebook')"
   ]
  },
  {
   "cell_type": "code",
   "execution_count": null,
   "metadata": {
    "ExecuteTime": {
     "end_time": "2025-06-09T04:20:00.403456Z",
     "start_time": "2025-06-09T04:19:54.508245Z"
    }
   },
   "outputs": [],
   "source": [
    "# Plot the stocks daily returns\n",
    "plot_financial_data(daily_returns_df, 'Percentage Daily Returns [%]', 'browser')"
   ]
  },
  {
   "cell_type": "code",
   "execution_count": null,
   "metadata": {
    "ExecuteTime": {
     "end_time": "2025-06-09T02:57:41.417550Z",
     "start_time": "2025-06-09T02:57:40.929289Z"
    }
   },
   "outputs": [],
   "source": [
    "# Plot histograms for stocks daily returns using plotly express\n",
    "# Compare META to JNJ daily returns histograms\n",
    "fig = px.histogram(daily_returns_df)\n",
    "#fig = px.histogram(daily_returns_df['AMZN'], nbins=20000)\n",
    "fig.update_layout({'plot_bgcolor': \"white\"})"
   ]
  },
  {
   "cell_type": "code",
   "execution_count": null,
   "metadata": {
    "ExecuteTime": {
     "end_time": "2025-06-09T01:48:33.268518Z",
     "start_time": "2025-06-09T01:48:31.860573Z"
    }
   },
   "outputs": [],
   "source": [
    "# Plot a heatmap showing the correlations between daily returns\n",
    "# Strong positive correlations between Catterpillar and John Deere - both into heavy equipment and machinery\n",
    "# META and Google - both into Tech and Cloud Computing\n",
    "plt.figure(figsize = (10, 8))\n",
    "sns.heatmap(daily_returns_df.corr(), annot = True);"
   ]
  },
  {
   "cell_type": "code",
   "execution_count": null,
   "metadata": {
    "ExecuteTime": {
     "end_time": "2025-06-09T01:48:41.113813Z",
     "start_time": "2025-06-09T01:48:41.046544Z"
    }
   },
   "outputs": [],
   "source": [
    "daily_returns_df"
   ]
  },
  {
   "cell_type": "code",
   "execution_count": null,
   "metadata": {
    "ExecuteTime": {
     "end_time": "2025-06-09T01:50:50.454604Z",
     "start_time": "2025-06-09T01:49:10.107887Z"
    }
   },
   "outputs": [],
   "source": [
    "# Plot the Pairplot between stocks daily returns\n",
    "sns.pairplot(daily_returns_df);"
   ]
  },
  {
   "cell_type": "code",
   "execution_count": null,
   "metadata": {
    "ExecuteTime": {
     "end_time": "2025-06-09T02:18:53.412519Z",
     "start_time": "2025-06-09T02:18:53.210335Z"
    }
   },
   "outputs": [],
   "source": [
    "# Function to scale stock prices based on their initial starting price\n",
    "# The objective of this function is to set all prices to start at a value of 1 \n",
    "def price_scaling(raw_prices_df):\n",
    "    scaled_prices_df = raw_prices_df.copy()\n",
    "    for i in raw_prices_df.columns:\n",
    "          scaled_prices_df[i] = raw_prices_df[i]/raw_prices_df[i][0]\n",
    "    return scaled_prices_df"
   ]
  },
  {
   "cell_type": "code",
   "execution_count": null,
   "metadata": {
    "ExecuteTime": {
     "end_time": "2025-06-09T01:51:09.330526Z",
     "start_time": "2025-06-09T01:51:09.243188Z"
    }
   },
   "outputs": [],
   "source": [
    "price_scaling(close_price_df)"
   ]
  },
  {
   "cell_type": "markdown",
   "metadata": {
    "id": "3hLk0-WuWu1A"
   },
   "source": [
    "# DEFINE A FUNCTION THAT GENERATES RANDOM PORTFOLIO WEIGHTS"
   ]
  },
  {
   "cell_type": "code",
   "execution_count": null,
   "metadata": {
    "ExecuteTime": {
     "end_time": "2025-06-09T02:05:38.755748Z",
     "start_time": "2025-06-09T02:05:38.741076Z"
    }
   },
   "outputs": [],
   "source": [
    "# Let's create an array that holds random portfolio weights\n",
    "# Note that portfolio weights must add up to 1 \n",
    "import random\n",
    "\n",
    "def generate_portfolio_weights(n):\n",
    "    weights = []\n",
    "    for i in range(n):\n",
    "        weights.append(random.random())\n",
    "    # let's make the sum of all weights add up to 1\n",
    "    weights = weights/np.sum(weights)\n",
    "    return weights"
   ]
  },
  {
   "cell_type": "code",
   "execution_count": null,
   "metadata": {
    "ExecuteTime": {
     "end_time": "2025-06-09T02:15:00.210839Z",
     "start_time": "2025-06-09T02:15:00.185090Z"
    }
   },
   "outputs": [],
   "source": [
    "w = generate_portfolio_weights(10)\n",
    "print(w)\n",
    "print(sum(w))"
   ]
  },
  {
   "cell_type": "markdown",
   "metadata": {},
   "source": [
    "# PERFORM ASSET ALLOCATION & CALCULATE PORTFOLIO DAILY VALUE/RETURN"
   ]
  },
  {
   "cell_type": "code",
   "execution_count": null,
   "metadata": {
    "ExecuteTime": {
     "end_time": "2025-06-09T02:15:03.627621Z",
     "start_time": "2025-06-09T02:15:03.472723Z"
    }
   },
   "outputs": [],
   "source": [
    "# Let's display \"close_price_df\" Pandas DataFrame\n",
    "close_price_df"
   ]
  },
  {
   "cell_type": "code",
   "execution_count": null,
   "metadata": {
    "ExecuteTime": {
     "end_time": "2025-06-09T02:15:07.843814Z",
     "start_time": "2025-06-09T02:15:07.746358Z"
    }
   },
   "outputs": [],
   "source": [
    "# Scale stock prices using the \"price_scaling\" function that we defined earlier (make all stock values start at 1)\n",
    "portfolio_df = close_price_df.copy()\n",
    "scaled_df = price_scaling(portfolio_df)\n",
    "scaled_df"
   ]
  },
  {
   "cell_type": "code",
   "execution_count": null,
   "metadata": {
    "ExecuteTime": {
     "end_time": "2025-06-09T02:15:10.907860Z",
     "start_time": "2025-06-09T02:15:10.725864Z"
    }
   },
   "outputs": [],
   "source": [
    "# Use enumerate() method to obtain the stock names along with a counter \"i\" (0, 1, 2, 3,..etc.)\n",
    "# This counter \"i\" will be used as an index to access elements in the \"weights\" list\n",
    "initial_investment = 1000000\n",
    "for i, stock in enumerate(scaled_df.columns):\n",
    "    portfolio_df[stock] = weights[i] * scaled_df[stock]  * initial_investment\n",
    "portfolio_df.round(1)"
   ]
  },
  {
   "cell_type": "code",
   "execution_count": null,
   "metadata": {
    "ExecuteTime": {
     "end_time": "2025-06-09T02:19:13.027879Z",
     "start_time": "2025-06-09T02:19:12.912758Z"
    }
   },
   "outputs": [],
   "source": [
    "# Assume that we have $1,000,000 that we would like to invest in one or more of the selected stocks\n",
    "# Let's create a function that receives the following arguments: \n",
    "      # (1) Stocks closing prices\n",
    "      # (2) Random weights \n",
    "      # (3) Initial investment amount\n",
    "# The function will return a DataFrame that contains the following:\n",
    "      # (1) Daily value (position) of each individual stock over the specified time period\n",
    "      # (2) Total daily value of the portfolio \n",
    "      # (3) Percentage daily return \n",
    "\n",
    "def asset_allocation(df, weights, initial_investment):\n",
    "    portfolio_df = df.copy()\n",
    "\n",
    "    # Scale stock prices using the \"price_scaling\" function that we defined earlier (Make them all start at 1)\n",
    "    scaled_df = price_scaling(df)\n",
    "  \n",
    "    for i, stock in enumerate(scaled_df.columns):\n",
    "        portfolio_df[stock] = scaled_df[stock] * weights[i] * initial_investment\n",
    "\n",
    "    # Sum up all values and place the result in a new column titled \"portfolio value [$]\" \n",
    "    # Note that we excluded the date column from this calculation\n",
    "    portfolio_df['Portfolio Value [$]'] = portfolio_df.sum(axis = 1, numeric_only = True)\n",
    "            \n",
    "    # Calculate the portfolio percentage daily return and replace NaNs with zeros\n",
    "    portfolio_df['Portfolio Daily Return [%]'] = portfolio_df['Portfolio Value [$]'].pct_change(1) * 100 \n",
    "    portfolio_df.replace(np.nan, 0, inplace = True)\n",
    "    \n",
    "    return portfolio_df"
   ]
  },
  {
   "cell_type": "code",
   "execution_count": null,
   "metadata": {
    "ExecuteTime": {
     "end_time": "2025-06-09T02:19:20.158162Z",
     "start_time": "2025-06-09T02:19:19.885948Z"
    },
    "executionInfo": {
     "elapsed": 375,
     "status": "ok",
     "timestamp": 1624997077501,
     "user": {
      "displayName": "Stemplicity",
      "photoUrl": "https://lh3.googleusercontent.com/a-/AOh14Gj2vCFt-bD5mPBhUWX0QA6xiBgoXQXtwUm2jgjaCg=s64",
      "userId": "10668071569687886186"
     },
     "user_tz": 240
    },
    "id": "5tFeuHwrEQLs"
   },
   "outputs": [],
   "source": [
    "# Now let's put this code in a function and generate random weights\n",
    "# Let's obtain the number of stocks under consideration (note that we ignored the \"Date\" column) \n",
    "n = len(close_price_df.columns)\n",
    "\n",
    "# Let's generate random weights \n",
    "print('Number of stocks under consideration = {}'.format(n))\n",
    "weights = generate_portfolio_weights(n)\n",
    "print('Portfolio weights = {}'.format(weights))\n",
    "print(sum(weights))\n",
    "# Let's test out the \"asset_allocation\" function\n",
    "portfolio_df = asset_allocation(close_price_df, weights, 1000000)\n",
    "portfolio_df.round(2)"
   ]
  },
  {
   "cell_type": "code",
   "execution_count": null,
   "metadata": {
    "ExecuteTime": {
     "end_time": "2025-06-09T02:20:57.335260Z",
     "start_time": "2025-06-09T02:20:55.686990Z"
    }
   },
   "outputs": [],
   "source": [
    "# Plot the portfolio percentage daily return\n",
    "plot_financial_data(portfolio_df[['Portfolio Daily Return [%]']], 'Portfolio Percentage Daily Return [%]', renderer='notebook')\n",
    "\n",
    "# Plot each stock position in our portfolio over time\n",
    "# This graph shows how our initial investment in each individual stock grows over time\n",
    "plot_financial_data(portfolio_df.drop(['Portfolio Value [$]', 'Portfolio Daily Return [%]'], axis = 1), 'Portfolio positions [$]', renderer='notebook')\n",
    "\n",
    "# Plot the total daily value of the portfolio (sum of all positions)\n",
    "plot_financial_data(portfolio_df[['Portfolio Value [$]']], 'Total Portfolio Value [$]', renderer='notebook')"
   ]
  },
  {
   "cell_type": "markdown",
   "metadata": {},
   "source": [
    "# DEFINE THE \"SIMULATION\" FUNCTION THAT PERFORMS ASSET ALLOCATION, AND CALCULATES KEY PORTFOLIO METRICS"
   ]
  },
  {
   "cell_type": "code",
   "execution_count": null,
   "metadata": {
    "ExecuteTime": {
     "end_time": "2025-06-09T02:41:26.583253Z",
     "start_time": "2025-06-09T02:41:26.537575Z"
    },
    "executionInfo": {
     "elapsed": 118,
     "status": "ok",
     "timestamp": 1624997097990,
     "user": {
      "displayName": "Stemplicity",
      "photoUrl": "https://lh3.googleusercontent.com/a-/AOh14Gj2vCFt-bD5mPBhUWX0QA6xiBgoXQXtwUm2jgjaCg=s64",
      "userId": "10668071569687886186"
     },
     "user_tz": 240
    },
    "id": "5AW2K68lor2v"
   },
   "outputs": [],
   "source": [
    "# Let's define the simulation engine function \n",
    "# The function receives: \n",
    "    # (1) portfolio weights\n",
    "    # (2) initial investment amount\n",
    "# The function performs asset allocation and calculates portfolio statistical metrics including Sharpe ratio\n",
    "# The function returns: \n",
    "    # (1) Expected portfolio return \n",
    "    # (2) Expected volatility \n",
    "    # (3) Sharpe ratio \n",
    "    # (4) Return on investment \n",
    "    # (5) Final portfolio value in dollars\n",
    "\n",
    "\n",
    "def simulation_engine(weights, initial_investment, rf):\n",
    "    # Perform asset allocation using the random weights (sent as arguments to the function)\n",
    "    portfolio_df = asset_allocation(close_price_df, weights, initial_investment)\n",
    "  \n",
    "    # Calculate the return on the investment \n",
    "    # Return on investment is calculated using the last final value of the portfolio compared to its initial value\n",
    "    return_on_investment = ((portfolio_df['Portfolio Value [$]'][-1:] - \n",
    "                             portfolio_df['Portfolio Value [$]'][0])/ \n",
    "                             portfolio_df['Portfolio Value [$]'][0]) * 100\n",
    "  \n",
    "    \n",
    "    cagr = (return_on_investment.values[0]*0.01)**(251/(len(portfolio_df.index)-1))\n",
    "\n",
    "    # Daily change of every stock in the portfolio (Note that we dropped the date, portfolio daily worth and daily % returns) \n",
    "    portfolio_daily_return_df = portfolio_df.drop(columns = ['Portfolio Value [$]', 'Portfolio Daily Return [%]'])\n",
    "    portfolio_daily_return_df = portfolio_daily_return_df.pct_change(1) \n",
    "  \n",
    "    # Portfolio Expected Return formula\n",
    "    expected_portfolio_return = np.sum(weights * portfolio_daily_return_df.mean() ) * 252\n",
    "  \n",
    "    # Portfolio volatility (risk) formula\n",
    "    # The risk of an asset is measured using the standard deviation which indicates the dispertion away from the mean\n",
    "    # The risk of a portfolio is not a simple sum of the risks of the individual assets within the portfolio\n",
    "    # Portfolio risk must consider correlations between assets within the portfolio which is indicated by the covariance \n",
    "    # The covariance determines the relationship between the movements of two random variables\n",
    "    # When two stocks move together, they have a positive covariance when they move inversely, the have a negative covariance \n",
    "\n",
    "    covariance = portfolio_daily_return_df.cov() * 252 \n",
    "    expected_volatility = np.sqrt(np.dot(weights.T, np.dot(covariance, weights)))\n",
    "\n",
    "    # Check out the chart for the 10-years U.S. treasury at https://ycharts.com/indicators/10_year_treasury_rate\n",
    "    # rf = 0.03 # Try to set the risk free rate of return to 1% (assumption)\n",
    "\n",
    "    # Calculate Sharpe ratio\n",
    "    sharpe_ratio = (expected_portfolio_return - rf)/expected_volatility \n",
    "    return expected_portfolio_return, expected_volatility, sharpe_ratio, portfolio_df['Portfolio Value [$]'][-1:].values[0], return_on_investment.values[0], cagr\n",
    "  "
   ]
  },
  {
   "cell_type": "code",
   "execution_count": null,
   "metadata": {
    "ExecuteTime": {
     "end_time": "2025-06-09T02:41:28.201711Z",
     "start_time": "2025-06-09T02:41:28.168223Z"
    }
   },
   "outputs": [],
   "source": [
    "# Let's test out the \"simulation_engine\" function and print out statistical metrics\n",
    "# Define the initial investment amount\n",
    "initial_investment = 1000000\n",
    "portfolio_metrics = simulation_engine(weights, initial_investment, 0.03)"
   ]
  },
  {
   "cell_type": "code",
   "execution_count": null,
   "metadata": {
    "ExecuteTime": {
     "end_time": "2025-06-09T02:41:30.336918Z",
     "start_time": "2025-06-09T02:41:30.331325Z"
    }
   },
   "outputs": [],
   "source": [
    "print('Expected Portfolio Annual Return = {:.2f}%'.format(portfolio_metrics[0] * 100))\n",
    "print('Portfolio Standard Deviation (Volatility) = {:.2f}%'.format(portfolio_metrics[1] * 100))\n",
    "print('Sharpe Ratio = {:.2f}'.format(portfolio_metrics[2]))\n",
    "print('Portfolio Final Value = ${:.2f}'.format(portfolio_metrics[3]))\n",
    "print('Return on Investment = {:.2f}%'.format(portfolio_metrics[4]))\n",
    "print(f\"CAGR = {(portfolio_metrics[5]-1)*100:.2f}%\")"
   ]
  },
  {
   "cell_type": "markdown",
   "metadata": {
    "id": "T5cDA0xpkDQZ"
   },
   "source": [
    "# RUN MONTE CARLO SIMULATIONS "
   ]
  },
  {
   "cell_type": "code",
   "execution_count": null,
   "metadata": {
    "ExecuteTime": {
     "end_time": "2025-06-09T02:48:19.628905Z",
     "start_time": "2025-06-09T02:45:26.662238Z"
    },
    "colab": {
     "base_uri": "https://localhost:8080/"
    },
    "executionInfo": {
     "elapsed": 323365,
     "status": "ok",
     "timestamp": 1624997531606,
     "user": {
      "displayName": "Stemplicity",
      "photoUrl": "https://lh3.googleusercontent.com/a-/AOh14Gj2vCFt-bD5mPBhUWX0QA6xiBgoXQXtwUm2jgjaCg=s64",
      "userId": "10668071569687886186"
     },
     "user_tz": 240
    },
    "id": "Gr8k5i2Vn7eY",
    "outputId": "35d859bb-eff4-4536-a430-3a231f7c232e"
   },
   "outputs": [],
   "source": [
    "# Set the number of simulation runs\n",
    "sim_runs = 10000\n",
    "initial_investment = 1000000\n",
    "\n",
    "# Placeholder to store all weights\n",
    "weights_runs = np.zeros((sim_runs, n))\n",
    "\n",
    "# Placeholder to store all Sharpe ratios\n",
    "sharpe_ratio_runs = np.zeros(sim_runs)\n",
    "\n",
    "# Placeholder to store all expected returns\n",
    "expected_portfolio_returns_runs = np.zeros(sim_runs)\n",
    "\n",
    "# Placeholder to store all volatility values\n",
    "volatility_runs = np.zeros(sim_runs)\n",
    "\n",
    "# Placeholder to store all returns on investment\n",
    "return_on_investment_runs = np.zeros(sim_runs)\n",
    "\n",
    "# Placeholder to store all final portfolio values\n",
    "final_value_runs = np.zeros(sim_runs)\n",
    "\n",
    "# Placeholder to store all cagr values\n",
    "cagr_runs = np.zeros(sim_runs)\n",
    "\n",
    "for i in range(sim_runs):\n",
    "    # Generate random weights \n",
    "    weights = generate_portfolio_weights(n)\n",
    "    # Store the weights\n",
    "    weights_runs[i,:] = weights\n",
    "    \n",
    "    # Call \"simulation_engine\" function and store Sharpe ratio, return and volatility\n",
    "    # Note that asset allocation is performed using the \"asset_allocation\" function  \n",
    "    expected_portfolio_returns_runs[i], volatility_runs[i], sharpe_ratio_runs[i], final_value_runs[i], return_on_investment_runs[i], cagr_runs[i] = simulation_engine(weights, initial_investment, 0.03)\n"
   ]
  },
  {
   "cell_type": "markdown",
   "metadata": {},
   "source": [
    "# PERFORM PORTFOLIO OPTIMIZATION "
   ]
  },
  {
   "cell_type": "code",
   "execution_count": null,
   "metadata": {
    "ExecuteTime": {
     "end_time": "2025-06-09T02:48:54.038758Z",
     "start_time": "2025-06-09T02:48:53.999713Z"
    }
   },
   "outputs": [],
   "source": [
    "# List all Sharpe ratios generated from the simulation\n",
    "sharpe_ratio_runs"
   ]
  },
  {
   "cell_type": "code",
   "execution_count": null,
   "metadata": {
    "ExecuteTime": {
     "end_time": "2025-06-09T02:48:56.179639Z",
     "start_time": "2025-06-09T02:48:56.164678Z"
    },
    "colab": {
     "base_uri": "https://localhost:8080/"
    },
    "executionInfo": {
     "elapsed": 104,
     "status": "ok",
     "timestamp": 1624997818888,
     "user": {
      "displayName": "Stemplicity",
      "photoUrl": "https://lh3.googleusercontent.com/a-/AOh14Gj2vCFt-bD5mPBhUWX0QA6xiBgoXQXtwUm2jgjaCg=s64",
      "userId": "10668071569687886186"
     },
     "user_tz": 240
    },
    "id": "ySgZgpbeCm8j",
    "outputId": "7f80f62a-1c9b-42c5-acaf-e766715585ef"
   },
   "outputs": [],
   "source": [
    "# Return the index of the maximum Sharpe ratio (Best simulation run) \n",
    "sharpe_ratio_runs.argmax()"
   ]
  },
  {
   "cell_type": "code",
   "execution_count": null,
   "metadata": {
    "ExecuteTime": {
     "end_time": "2025-06-09T02:48:58.426498Z",
     "start_time": "2025-06-09T02:48:58.413033Z"
    },
    "colab": {
     "base_uri": "https://localhost:8080/"
    },
    "executionInfo": {
     "elapsed": 108,
     "status": "ok",
     "timestamp": 1624997819615,
     "user": {
      "displayName": "Stemplicity",
      "photoUrl": "https://lh3.googleusercontent.com/a-/AOh14Gj2vCFt-bD5mPBhUWX0QA6xiBgoXQXtwUm2jgjaCg=s64",
      "userId": "10668071569687886186"
     },
     "user_tz": 240
    },
    "id": "egiRras_DZWl",
    "outputId": "d251a186-0811-41b2-f0d9-53e244353f95"
   },
   "outputs": [],
   "source": [
    "# Return the maximum Sharpe ratio value\n",
    "sharpe_ratio_runs.max()"
   ]
  },
  {
   "cell_type": "code",
   "execution_count": null,
   "metadata": {
    "ExecuteTime": {
     "end_time": "2025-06-09T02:49:03.737354Z",
     "start_time": "2025-06-09T02:49:03.722933Z"
    }
   },
   "outputs": [],
   "source": [
    "weights_runs"
   ]
  },
  {
   "cell_type": "code",
   "execution_count": null,
   "metadata": {
    "ExecuteTime": {
     "end_time": "2025-06-09T02:49:06.326152Z",
     "start_time": "2025-06-09T02:49:06.315789Z"
    },
    "colab": {
     "base_uri": "https://localhost:8080/"
    },
    "executionInfo": {
     "elapsed": 150,
     "status": "ok",
     "timestamp": 1624997820047,
     "user": {
      "displayName": "Stemplicity",
      "photoUrl": "https://lh3.googleusercontent.com/a-/AOh14Gj2vCFt-bD5mPBhUWX0QA6xiBgoXQXtwUm2jgjaCg=s64",
      "userId": "10668071569687886186"
     },
     "user_tz": 240
    },
    "id": "bZ-89r0LCul9",
    "outputId": "8f9eeb86-af75-4978-fbe4-9bbe9fdc38b5"
   },
   "outputs": [],
   "source": [
    "# Obtain the portfolio weights that correspond to the maximum Sharpe ratio (Golden set of weights!)\n",
    "weights_runs[sharpe_ratio_runs.argmax(), :]"
   ]
  },
  {
   "cell_type": "code",
   "execution_count": null,
   "metadata": {
    "ExecuteTime": {
     "end_time": "2025-06-09T02:49:24.796748Z",
     "start_time": "2025-06-09T02:49:24.767001Z"
    },
    "executionInfo": {
     "elapsed": 301,
     "status": "ok",
     "timestamp": 1624997820654,
     "user": {
      "displayName": "Stemplicity",
      "photoUrl": "https://lh3.googleusercontent.com/a-/AOh14Gj2vCFt-bD5mPBhUWX0QA6xiBgoXQXtwUm2jgjaCg=s64",
      "userId": "10668071569687886186"
     },
     "user_tz": 240
    },
    "id": "vkuvGJbSw0i5"
   },
   "outputs": [],
   "source": [
    "# Return Sharpe ratio, volatility corresponding to the best weights allocation (maximum Sharpe ratio)\n",
    "optimal_portfolio_return, optimal_volatility, optimal_sharpe_ratio, highest_final_value, optimal_return_on_investment, optimal_cagr = simulation_engine(weights_runs[sharpe_ratio_runs.argmax(), :], initial_investment, 0.03)"
   ]
  },
  {
   "cell_type": "code",
   "execution_count": null,
   "metadata": {
    "ExecuteTime": {
     "end_time": "2025-06-09T02:49:28.145367Z",
     "start_time": "2025-06-09T02:49:28.127987Z"
    }
   },
   "outputs": [],
   "source": [
    "print('Best Portfolio Metrics Based on {} Monte Carlo Simulation Runs:'.format(sim_runs))\n",
    "print('  - Portfolio Expected Annual Return = {:.02f}%'.format(optimal_portfolio_return * 100))\n",
    "print('  - Portfolio Standard Deviation (Volatility) = {:.02f}%'.format(optimal_volatility * 100))\n",
    "print('  - Sharpe Ratio = {:.02f}'.format(optimal_sharpe_ratio))\n",
    "print('  - Final Value = ${:.02f}'.format(highest_final_value))\n",
    "print('  - Return on Investment = {:.02f}%'.format(optimal_return_on_investment))"
   ]
  },
  {
   "cell_type": "code",
   "execution_count": null,
   "metadata": {
    "ExecuteTime": {
     "end_time": "2025-06-09T02:50:25.300122Z",
     "start_time": "2025-06-09T02:50:25.110168Z"
    },
    "colab": {
     "base_uri": "https://localhost:8080/",
     "height": 417
    },
    "executionInfo": {
     "elapsed": 123,
     "status": "ok",
     "timestamp": 1624997584474,
     "user": {
      "displayName": "Stemplicity",
      "photoUrl": "https://lh3.googleusercontent.com/a-/AOh14Gj2vCFt-bD5mPBhUWX0QA6xiBgoXQXtwUm2jgjaCg=s64",
      "userId": "10668071569687886186"
     },
     "user_tz": 240
    },
    "id": "r0FCaiCL206o",
    "outputId": "86ce5cf3-fe63-4e51-a917-db582500b73e"
   },
   "outputs": [],
   "source": [
    "# Create a DataFrame that contains volatility, return, and Sharpe ratio for all simualation runs\n",
    "sim_out_df = pd.DataFrame({'Volatility': volatility_runs.tolist(), 'Portfolio_Return': expected_portfolio_returns_runs.tolist(), 'Sharpe_Ratio': sharpe_ratio_runs.tolist() })\n",
    "sim_out_df"
   ]
  },
  {
   "cell_type": "code",
   "execution_count": null,
   "metadata": {
    "ExecuteTime": {
     "end_time": "2025-06-09T02:50:40.775222Z",
     "start_time": "2025-06-09T02:50:40.030640Z"
    },
    "colab": {
     "base_uri": "https://localhost:8080/",
     "height": 542
    },
    "executionInfo": {
     "elapsed": 847,
     "status": "ok",
     "timestamp": 1624997602913,
     "user": {
      "displayName": "Stemplicity",
      "photoUrl": "https://lh3.googleusercontent.com/a-/AOh14Gj2vCFt-bD5mPBhUWX0QA6xiBgoXQXtwUm2jgjaCg=s64",
      "userId": "10668071569687886186"
     },
     "user_tz": 240
    },
    "id": "XeKpVhNV1RIy",
    "outputId": "6c2eff17-9b57-48b9-c63b-d131c4ce528c"
   },
   "outputs": [],
   "source": [
    "# Let's highlight the point with the highest Sharpe ratio\n",
    "fig = px.scatter(sim_out_df, x = 'Volatility', y = 'Portfolio_Return', color = 'Sharpe_Ratio', size = 'Sharpe_Ratio', hover_data = ['Sharpe_Ratio'] )\n",
    "fig.add_trace(go.Scatter(x = [optimal_volatility], y = [optimal_portfolio_return], mode = 'markers', name = 'Optimal Point', marker = dict(size=[40], color = 'red')))\n",
    "fig.update_layout(coloraxis_colorbar = dict(y = 0.7, dtick = 5))\n",
    "fig.update_layout({'plot_bgcolor': \"white\"})\n",
    "fig.show()"
   ]
  },
  {
   "cell_type": "markdown",
   "metadata": {},
   "source": [
    "# APPENDIX"
   ]
  },
  {
   "cell_type": "code",
   "execution_count": null,
   "metadata": {},
   "outputs": [],
   "source": [
    "# Code to obtain stock data using Pandas Datareader\n",
    "# Select the start/end dates and ticker symbols\n",
    "# Data is saved in a stock_data.csv file\n",
    "tickers = ['AMZN', 'JPM', 'META', 'PG', 'GOOGL', 'CAT', 'PFE', 'EXC', 'DE', 'JNJ'] \n",
    "tickers = ['AMZN'] \n",
    "\n",
    "!pip install pandas_datareader\n",
    "!pip install yfinance\n",
    "from pandas_datareader import data as pdr\n",
    "import yfinance as yfin\n",
    "yfin.pdr_override()\n",
    "\n",
    "# Indicate the start and end dates\n",
    "start = dt.datetime(2018, 1, 1)\n",
    "end = dt.datetime.now()\n",
    "\n",
    "df = pdr.get_data_yahoo(tickers, start = start, end = end)\n",
    "print(df)\n",
    "df.to_csv('stock_data.csv')"
   ]
  },
  {
   "cell_type": "code",
   "execution_count": null,
   "metadata": {},
   "outputs": [],
   "source": [
    "tickers = ['AMZN', 'JPM', 'META', 'PG', 'GOOG', 'CAT', 'PFE', 'EXC', 'DE', 'JNJ']\n",
    "data = yf.download(tickers, start='2014-01-01', end='2024-06-01', auto_adjust=True)\n",
    "data['Close'].to_csv('stock_prices.csv')"
   ]
  },
  {
   "cell_type": "markdown",
   "metadata": {
    "ExecuteTime": {
     "end_time": "2025-06-09T03:38:52.142707Z",
     "start_time": "2025-06-09T03:38:51.907553Z"
    }
   },
   "source": [
    "Run this to check the version of plotly and cufflinks:\n",
    "\n",
    "!pip show plotly cufflinks\n",
    "\n",
    "Plotly should be version 4.14.3 or older. The newer one conflicts with cufflinks. "
   ]
  }
 ],
 "metadata": {
  "accelerator": "TPU",
  "colab": {
   "authorship_tag": "ABX9TyPISa9hUH2lDRe/0C4YH2M2",
   "collapsed_sections": [],
   "name": "Finance 101 - Portfolio Optimization & Monte Carlo Simulations - Solution Final 2.ipynb",
   "provenance": [
    {
     "file_id": "1eJE05IDEOwcPl1cCN6H6OjA4vEhgn2bJ",
     "timestamp": 1624990079193
    }
   ]
  },
  "kernelspec": {
   "display_name": "Python 3",
   "language": "python",
   "name": "python3"
  },
  "language_info": {
   "codemirror_mode": {
    "name": "ipython",
    "version": 3
   },
   "file_extension": ".py",
   "mimetype": "text/x-python",
   "name": "python",
   "nbconvert_exporter": "python",
   "pygments_lexer": "ipython3",
   "version": "3.8.3"
  }
 },
 "nbformat": 4,
 "nbformat_minor": 4
}
